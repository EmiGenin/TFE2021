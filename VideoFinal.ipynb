{
  "nbformat": 4,
  "nbformat_minor": 0,
  "metadata": {
    "kernelspec": {
      "name": "python3",
      "display_name": "Python 3"
    },
    "colab": {
      "name": "VideoFinal.ipynb",
      "provenance": [],
      "collapsed_sections": [
        "Bh9DXSCvuv6v"
      ],
      "toc_visible": true
    },
    "accelerator": "GPU"
  },
  "cells": [
    {
      "cell_type": "markdown",
      "metadata": {
        "id": "QrtS3fRhb5x6",
        "colab_type": "text"
      },
      "source": [
        "# **1. Import the libraries**"
      ]
    },
    {
      "cell_type": "code",
      "metadata": {
        "id": "4DTeIMO7gYq4",
        "colab_type": "code",
        "colab": {}
      },
      "source": [
        "import cv2\n",
        "import os\n",
        "from google.colab import files\n",
        "from matplotlib import pyplot as plt\n",
        "from IPython.display import Image\n",
        "from IPython.display import HTML\n",
        "from base64 import b64encode\n",
        "import numpy as np\n",
        "import glob\n",
        "import imageio\n",
        "from keras.models import Model, load_model\n",
        "from PIL import Image, ImageEnhance\n",
        "from keras.preprocessing import image\n",
        "from IPython.display import Image, HTML, display\n",
        "from keras.preprocessing.image import ImageDataGenerator\n",
        "from keras.applications.xception import preprocess_input\n"
      ],
      "execution_count": 0,
      "outputs": []
    },
    {
      "cell_type": "markdown",
      "metadata": {
        "id": "mqOnnIpNj_S1",
        "colab_type": "text"
      },
      "source": [
        "# **2. Creation of the label file \"classes.txt\"**"
      ]
    },
    {
      "cell_type": "code",
      "metadata": {
        "id": "gVojAaTjj--w",
        "colab_type": "code",
        "colab": {}
      },
      "source": [
        "!printf '%s\\n' 'fire' 'no_fire' 'start_fire' > classes.txt"
      ],
      "execution_count": 0,
      "outputs": []
    },
    {
      "cell_type": "markdown",
      "metadata": {
        "id": "_y1kapZ8lEOg",
        "colab_type": "text"
      },
      "source": [
        "#  **3. Load the model**"
      ]
    },
    {
      "cell_type": "code",
      "metadata": {
        "id": "Bz6IvFmxH0ES",
        "colab_type": "code",
        "colab": {}
      },
      "source": [
        "!wget https://github.com/EmiGenin/defis/releases/download/defi11-model/classification_final.h5"
      ],
      "execution_count": 0,
      "outputs": []
    },
    {
      "cell_type": "code",
      "metadata": {
        "id": "kzBoazpftjO7",
        "colab_type": "code",
        "colab": {}
      },
      "source": [
        "model_path=\"classification_final.h5\"   # Ici, vous devez indiquer votre modèle\n",
        "classes_path = \"classes.txt\"\n",
        "     \n",
        "top_n=3\n",
        "model = load_model(model_path)"
      ],
      "execution_count": 0,
      "outputs": []
    },
    {
      "cell_type": "markdown",
      "metadata": {
        "id": "1gOydHr_lk1o",
        "colab_type": "text"
      },
      "source": [
        "# **4. Load the video**"
      ]
    },
    {
      "cell_type": "code",
      "metadata": {
        "id": "i48Nw_U9IdUw",
        "colab_type": "code",
        "colab": {}
      },
      "source": [
        "!wget -O video.mp4 https://github.com/ACOOLS/IA/releases/download/video/video.mp4"
      ],
      "execution_count": 0,
      "outputs": []
    },
    {
      "cell_type": "markdown",
      "metadata": {
        "id": "Z-dWFN6VlsK7",
        "colab_type": "text"
      },
      "source": [
        "# **5. Creation of the paths**"
      ]
    },
    {
      "cell_type": "code",
      "metadata": {
        "id": "tTJy0C7ktqIB",
        "colab_type": "code",
        "colab": {}
      },
      "source": [
        "vid_path=\"video.mp4\" #chemin de la video\n",
        "img_dir = 'video_images/'#dossier où seront enregistrées les images \n",
        "\n",
        "if not os.path.exists(img_dir): #vérification si le dossier existe \n",
        "    os.makedirs(img_dir) "
      ],
      "execution_count": 0,
      "outputs": []
    },
    {
      "cell_type": "markdown",
      "metadata": {
        "id": "a5Ktq2z3lwEd",
        "colab_type": "text"
      },
      "source": [
        "# **6. Verification that the video is correctly loaded**"
      ]
    },
    {
      "cell_type": "code",
      "metadata": {
        "id": "BaHTPWVFH2Rn",
        "colab_type": "code",
        "colab": {}
      },
      "source": [
        "#Vérification que la vidéo a bien été téléchargée \n",
        "mp4 = open('video.mp4','rb').read()\n",
        "data_url = \"data:video/mp4;base64,\" + b64encode(mp4).decode()\n",
        "HTML(\"\"\"\n",
        "<video width=400 controls>\n",
        "      <source src=\"%s\" type=\"video/mp4\">\n",
        "</video>\n",
        "\"\"\" % data_url)"
      ],
      "execution_count": 0,
      "outputs": []
    },
    {
      "cell_type": "markdown",
      "metadata": {
        "id": "XpD4kxGou-vd",
        "colab_type": "text"
      },
      "source": [
        "# **7. Play video and sequencing in pictures**"
      ]
    },
    {
      "cell_type": "code",
      "metadata": {
        "id": "TGZTGNo-EBNj",
        "colab_type": "code",
        "colab": {}
      },
      "source": [
        "i=0;  # un compteur qui sera utilisé comme un nom d'une image\n",
        "cap=cv2.VideoCapture(\"video.mp4\") #lire la vidéo avec opencv\n",
        "if (cap.isOpened()== False): #vérification si la vidéo est bien lue\n",
        "  print(\"Error opening video stream\")\n",
        "fps = cap.get(cv2.CAP_PROP_FPS)\n",
        "while(cap.isOpened()):  \n",
        "  # Capture frame-by-frame\n",
        "  ret, frame = cap.read() #récupuré image par image\n",
        "  if ret == True:     \n",
        "      img_name =\"image_\"+ str(i) +\".png\"\n",
        "      img_path=img_dir+img_name\n",
        "      cv2.imwrite(img_path,frame)\n",
        "      i=i+1\n",
        "  else :\n",
        "      break\n",
        "cap.release()"
      ],
      "execution_count": 0,
      "outputs": []
    },
    {
      "cell_type": "markdown",
      "metadata": {
        "id": "Bh9DXSCvuv6v",
        "colab_type": "text"
      },
      "source": [
        "# **8. Prediction on pictures**"
      ]
    },
    {
      "cell_type": "code",
      "metadata": {
        "id": "KMlZESLWKh5L",
        "colab_type": "code",
        "colab": {}
      },
      "source": [
        "\n",
        "image_path=\"video_images\"\n",
        "dataset_path=\"video_images\"  \n",
        "img_dir =\"new_images/\"\n",
        "if os.path.exists(img_dir) == False:\n",
        "    os.makedirs(img_dir)\n",
        "classes = []\n",
        "with open(classes_path, 'r') as f:\n",
        "    classes = list(map(lambda x: x.strip(), f.readlines()))\n",
        "\n",
        "\n",
        "nbr_images = len(os.listdir('video_images'))\n",
        "\n",
        "\n",
        "\n",
        "for j in range(0, nbr_images):\n",
        "  current_image=\"video_images/image_\"+str(j)+\".png\" \n",
        "  img = image.load_img(current_image, target_size=(299,299)) #prendre l'image i \n",
        "  x = image.img_to_array(img)\n",
        "  x = np.expand_dims(x, axis=0)\n",
        "  x = preprocess_input(x)\n",
        "  # predict\n",
        "  pred = model.predict(x)[0]\n",
        "  result = [(classes[i], float(pred[i]) * 100.0) for i in range(len(pred))]\n",
        "  result.sort(reverse=True, key=lambda x: x[1])\n",
        "  img = cv2.imread(current_image)\n",
        "  img = cv2.cvtColor(img, cv2.COLOR_BGR2RGB)\n",
        "  img = cv2.rectangle(img, (200,200), (800,500), (0,0,0), 4)\n",
        "  font = cv2.FONT_HERSHEY_COMPLEX \n",
        "  img_name=\"image_\"+str(j)+\".png\"\n",
        "  img_path=img_dir+img_name\n",
        "\n",
        " \n",
        "  for i in range(3):\n",
        "    (class_name, prob) = result[i]\n",
        "    textsize = cv2.getTextSize(class_name, font, 1, 2)[0]\n",
        "    textX = (img.shape[1] - textsize[0]) / 2\n",
        "    textY = (img.shape[0] + textsize[1]) / 2\n",
        "    if (i == 0) :\n",
        "        cv2.putText(img, class_name, (int(textX)-100, int(textY)), font, 5, (255,255,255), 6, cv2.LINE_AA)\n",
        "        class_name1=class_name\n",
        "        cv2.imwrite(img_path,img)\n",
        "        \n"
      ],
      "execution_count": 0,
      "outputs": []
    },
    {
      "cell_type": "markdown",
      "metadata": {
        "id": "yal88MMpujM5",
        "colab_type": "text"
      },
      "source": [
        "# **9. Writing video from annotated images**"
      ]
    },
    {
      "cell_type": "code",
      "metadata": {
        "id": "EYoOBJOc1FRu",
        "colab_type": "code",
        "colab": {}
      },
      "source": [
        "fileList = []\n",
        "writer= None\n",
        "i=0\n",
        "for file in os.listdir('new_images'):\n",
        "  complete_path = 'new_images/image_' +str(i) +\".png\" \n",
        "  fileList.append(complete_path)\n",
        "  i=i+1\n",
        "writer = imageio.get_writer('test.mp4', fps=fps)\n",
        "\n",
        "for im in fileList:\n",
        "    writer.append_data(imageio.imread(im))\n",
        "writer.close()\n"
      ],
      "execution_count": 0,
      "outputs": []
    },
    {
      "cell_type": "markdown",
      "metadata": {
        "id": "lmpQiK1ooHov",
        "colab_type": "text"
      },
      "source": [
        "### **10. Display of the final video**"
      ]
    },
    {
      "cell_type": "code",
      "metadata": {
        "id": "YMN-Moyg1D4u",
        "colab_type": "code",
        "colab": {}
      },
      "source": [
        "mp4 = open('test.mp4','rb').read()\n",
        "data_url = \"data:video/mp4;base64,\" + b64encode(mp4).decode()\n",
        "HTML(\"\"\"\n",
        "<video width=400 controls>\n",
        "      <source src=\"%s\" type=\"video/mp4\">\n",
        "</video>\n",
        "\"\"\" % data_url)\n"
      ],
      "execution_count": 0,
      "outputs": []
    },
    {
      "cell_type": "markdown",
      "metadata": {
        "id": "KaH-Q_1ziuz4",
        "colab_type": "text"
      },
      "source": [
        ""
      ]
    }
  ]
}